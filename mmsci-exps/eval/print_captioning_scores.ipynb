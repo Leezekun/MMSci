{
 "cells": [
  {
   "cell_type": "code",
   "execution_count": 4,
   "metadata": {},
   "outputs": [],
   "source": [
    "import numpy as np\n",
    "import os\n",
    "import json\n",
    "import csv\n",
    "import pandas as pd\n",
    "\n",
    "base_score_dir = '/home/ubuntu/MMSci/mmsci-exps/eval/eval_scores/image_caption_generation/textgen'\n",
    "target_score_dir = '/home/ubuntu/MMSci/mmsci-exps/eval/eval_scores/image_caption_generation'\n",
    "csv_dir = os.path.join(target_score_dir, 'csv')"
   ]
  },
  {
   "cell_type": "code",
   "execution_count": 5,
   "metadata": {},
   "outputs": [],
   "source": [
    "model_list = ['blip2', 'kosmos2', 'qwen', 'llava', 'llava-next', 'llava-next-mistral', 'gpt-4-turbo', 'gpt-4o', 'llava-next-mmsci']\n",
    "metric_list = ['BLEU-1', 'BLEU-2', 'BLEU-3', 'BLEU-4', 'BLEU', 'METEOR', 'ROUGE', 'ROUGE1', 'ROUGE2', 'ROUGEL', 'rougeLSUM', 'CIDER', 'CLIPScore', 'RefCLIPScore']\n",
    "fields = ['model']\n",
    "for metric in metric_list:\n",
    "    fields.extend([f'{metric} [mean]', f'{metric} [std]'])\n",
    "\n",
    "for w_abs in [False, True]:\n",
    "    for w_ctx in [False, True]:\n",
    "        if w_abs and w_ctx:\n",
    "            continue\n",
    "        tag = f'abs{w_abs}_ctx{w_ctx}'\n",
    "\n",
    "        with open(os.path.join(csv_dir, f'{tag}.csv'), 'w') as csvfile:\n",
    "            writer = csv.DictWriter(csvfile, fieldnames=fields)\n",
    "            writer.writeheader()\n",
    "            score_dict = []\n",
    "\n",
    "            for model in model_list:\n",
    "                filename = os.path.join(base_score_dir, tag, f'{model}.json')\n",
    "                if not os.path.exists(filename):\n",
    "                    continue\n",
    "                all_scores = json.load(open(filename))\n",
    "                info = {'model': model}\n",
    "                for metric in metric_list:\n",
    "                    if metric in all_scores:\n",
    "                        scores = all_scores[metric]\n",
    "                        mean = np.mean(scores)\n",
    "                        std = np.std(scores)\n",
    "                        info[f'{metric} [mean]'] = mean\n",
    "                        info[f'{metric} [std]'] = std\n",
    "                    else:\n",
    "                        info[f'{metric} [mean]'] = 0.0\n",
    "                        info[f'{metric} [std]'] = 0.0\n",
    "                score_dict.append(info)\n",
    "\n",
    "            writer.writerows(score_dict)\n",
    "\n"
   ]
  },
  {
   "cell_type": "code",
   "execution_count": null,
   "metadata": {},
   "outputs": [],
   "source": [
    "w_abs = False\n",
    "w_ctx = False\n",
    "\n",
    "tag = f'abs{w_abs}_ctx{w_ctx}'\n",
    "\n",
    "# Load the CSV file\n",
    "cap_score_path = os.path.join(target_score_dir, \"csv\", f'{tag}.csv')\n",
    "df = pd.read_csv(cap_score_path)\n",
    "print(df.columns)"
   ]
  },
  {
   "cell_type": "code",
   "execution_count": null,
   "metadata": {},
   "outputs": [],
   "source": [
    "# Filter columns that contain \"[mean]\"\n",
    "filtered_columns = [col for col in df.columns if \"[mean]\" in col or \"model\" in col]\n",
    "\n",
    "# Check if the string is in the 'Name' column (case-sensitive)\n",
    "filtered_df = df[filtered_columns]\n",
    "\n",
    "numeric_cols = filtered_df.select_dtypes(include='number').columns\n",
    "filtered_df[numeric_cols] = filtered_df[numeric_cols].applymap(lambda x: x * 100)\n",
    "filtered_df[numeric_cols] = filtered_df[numeric_cols].round(2)\n",
    "\n",
    "# Print the filtered DataFrame\n",
    "print(filtered_df)"
   ]
  }
 ],
 "metadata": {
  "kernelspec": {
   "display_name": "mace_new",
   "language": "python",
   "name": "python3"
  },
  "language_info": {
   "codemirror_mode": {
    "name": "ipython",
    "version": 3
   },
   "file_extension": ".py",
   "mimetype": "text/x-python",
   "name": "python",
   "nbconvert_exporter": "python",
   "pygments_lexer": "ipython3",
   "version": "3.10.14"
  }
 },
 "nbformat": 4,
 "nbformat_minor": 2
}
